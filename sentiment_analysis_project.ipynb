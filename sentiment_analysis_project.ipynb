{
 "cells": [
  {
   "cell_type": "code",
   "execution_count": 265,
   "id": "4afb08f7-c75b-45ce-88f2-d05bd492c7ff",
   "metadata": {},
   "outputs": [],
   "source": [
    "import pandas as pd\n",
    "import numpy as np\n",
    "import re\n",
    "import nltk\n",
    "from nltk.corpus import stopwords\n",
    "from numpy import array\n",
    "import tensorflow as tf\n",
    "import matplotlib.pyplot as plt\n",
    "import nltk\n",
    "from nltk.tokenize import word_tokenize"
   ]
  },
  {
   "cell_type": "code",
   "execution_count": 2,
   "id": "62f4afb0-1c5e-4f20-b8fd-efd8ab09998b",
   "metadata": {},
   "outputs": [],
   "source": [
    "from tensorflow.keras.preprocessing.text import one_hot,Tokenizer\n",
    "from tensorflow.keras.preprocessing.sequence import pad_sequences\n",
    "from tensorflow.keras.models import Sequential\n",
    "from tensorflow.keras.layers import Activation ,Dropout,Dense\n",
    "from tensorflow.keras.layers import Flatten , GlobalMaxPooling1D , Embedding ,Conv1D,LSTM\n",
    "from sklearn.model_selection import train_test_split"
   ]
  },
  {
   "cell_type": "code",
   "execution_count": 178,
   "id": "c6d4c1b7-27ca-4865-b66e-5801ae00ba0b",
   "metadata": {},
   "outputs": [],
   "source": [
    "file_path=r\"C:\\Users\\anjil\\Documents\\Beta\\IMDB Dataset.csv\"\n",
    "df=pd.read_csv(file_path)\n",
    "df=df[:20000]\n",
    "#DATASET WAS HUGE SO I TRAINED ONLY IN 20000 DATA."
   ]
  },
  {
   "cell_type": "code",
   "execution_count": 5,
   "id": "b960d5ad-27e0-4089-8926-5f8a7cfbb094",
   "metadata": {},
   "outputs": [
    {
     "data": {
      "text/plain": [
       "0"
      ]
     },
     "execution_count": 5,
     "metadata": {},
     "output_type": "execute_result"
    }
   ],
   "source": [
    "#checking whether null present or not\n",
    "df['review'].isnull().sum()"
   ]
  },
  {
   "cell_type": "code",
   "execution_count": 14,
   "id": "da0f8f7c-dfb2-4ac2-98c6-74f1cd71b802",
   "metadata": {},
   "outputs": [],
   "source": [
    "most_frequent_value=df[\"sentiment\"].mode()\n",
    "df['sentiment']=df['sentiment'].fillna(most_frequent_value)\n",
    "#preprocessing tasks by filling the position with teh most number of repeating terms\n"
   ]
  },
  {
   "cell_type": "code",
   "execution_count": 17,
   "id": "a5a74df7-78f0-400e-b7a7-6b0890134c44",
   "metadata": {},
   "outputs": [
    {
     "data": {
      "text/plain": [
       "array(['positive', 'negative'], dtype=object)"
      ]
     },
     "execution_count": 17,
     "metadata": {},
     "output_type": "execute_result"
    }
   ],
   "source": [
    "#finding the unique elements just verifying that only positive and negative area present\n",
    "unique_elements=df[\"sentiment\"].unique()\n",
    "unique_elements"
   ]
  },
  {
   "cell_type": "code",
   "execution_count": 18,
   "id": "15e7f340-404f-4d73-ad13-3fcbd31a5361",
   "metadata": {},
   "outputs": [],
   "source": []
  },
  {
   "cell_type": "raw",
   "id": "a0d75b2b-fb11-40c6-9687-1ef5ac7ba7ed",
   "metadata": {},
   "source": [
    "\n"
   ]
  },
  {
   "cell_type": "code",
   "execution_count": 21,
   "id": "33494779-e396-445a-a6c8-9bd3ffe48bb0",
   "metadata": {},
   "outputs": [
    {
     "data": {
      "text/plain": [
       "sentiment\n",
       "positive    25000\n",
       "negative    25000\n",
       "Name: count, dtype: int64"
      ]
     },
     "execution_count": 21,
     "metadata": {},
     "output_type": "execute_result"
    }
   ],
   "source": [
    "element_counts=df[\"sentiment\"].value_counts()\n",
    "element_counts"
   ]
  },
  {
   "cell_type": "code",
   "execution_count": 23,
   "id": "965a49b6-567a-4853-b3c4-c0939c10aab4",
   "metadata": {},
   "outputs": [
    {
     "data": {
      "image/png": "[encoded data removed]",
      "text/plain": [
       "<Figure size 640x480 with 1 Axes>"
      ]
     },
     "metadata": {},
     "output_type": "display_data"
    }
   ],
   "source": [
    "variables=[\"positive\",\"negative\"]\n",
    "values=[25000,25000]\n",
    "plt.bar(range(len(variables)),values)\n",
    "plt.xticks(range(len(variables)),variables)\n",
    "plt.show()\n",
    "#now from the visualization i can see that diff of the data    \n"
   ]
  },
  {
   "cell_type": "code",
   "execution_count": null,
   "id": "511ffef6-9e25-4c1e-b4e2-a3a81c056e7e",
   "metadata": {},
   "outputs": [],
   "source": []
  },
  {
   "cell_type": "code",
   "execution_count": 4,
   "id": "bc43a2bb-026c-4b5e-aaa3-682e60c55c56",
   "metadata": {},
   "outputs": [],
   "source": [
    "tag_re=re.compile(r'<[^>]+>')\n",
    "def remove_tags(text):\n",
    "    return tag_re.sub('',text)"
   ]
  },
  {
   "cell_type": "code",
   "execution_count": null,
   "id": "bf83f2a3-96c3-4e35-b297-a00d80e930b7",
   "metadata": {},
   "outputs": [],
   "source": []
  },
  {
   "cell_type": "code",
   "execution_count": 5,
   "id": "163d7dbc-6b50-489c-a9b5-93bb3093aea8",
   "metadata": {},
   "outputs": [
    {
     "name": "stderr",
     "output_type": "stream",
     "text": [
      "[nltk_data] Downloading package stopwords to\n",
      "[nltk_data]     C:\\Users\\anjil\\AppData\\Roaming\\nltk_data...\n",
      "[nltk_data]   Package stopwords is already up-to-date!\n"
     ]
    }
   ],
   "source": [
    "#downlaoding the stopwords\n",
    "m=nltk.download(\"stopwords\")\n",
    "\n"
   ]
  },
  {
   "cell_type": "raw",
   "id": "468b311e-7be5-40de-a487-d43f4ad8afed",
   "metadata": {},
   "source": []
  },
  {
   "cell_type": "code",
   "execution_count": null,
   "id": "aa889063-5a35-4a62-8997-6fad82822d80",
   "metadata": {},
   "outputs": [],
   "source": [
    "stop_words=stopwords.words(\"english\")\n",
    "\n",
    "#these are the stop words in the english dictionary"
   ]
  },
  {
   "cell_type": "code",
   "execution_count": 262,
   "id": "673ad5dd-de49-403f-9357-3a0e9be7fc1f",
   "metadata": {},
   "outputs": [],
   "source": [
    "def preprocess_text(sen):\n",
    "    sentence=sen.lower()\n",
    "    sentece=remove_tags(sentence)\n",
    "    sentence=re.sub('[^a-zA-Z]',' ',sentence)\n",
    "    sentence=word_tokenize(sentence)\n",
    "    stop_words=set(stopwords.words('english'))\n",
    "    sentence=[word for word in sentence if len(word)!=2 and word not in stop_words]\n",
    "    sentence=' '.join(sentence)\n",
    "    return sentence"
   ]
  },
  {
   "cell_type": "code",
   "execution_count": 267,
   "id": "08f464a6-38c2-43e4-b080-7a2a8f9e82f7",
   "metadata": {},
   "outputs": [],
   "source": [
    "X=[]\n",
    "sentence=list(df['review'])\n",
    "for sen in sentence:\n",
    "    \n",
    "    X.append(preprocess_text(sen))\n"
   ]
  },
  {
   "cell_type": "code",
   "execution_count": null,
   "id": "17cf6754-769b-4c41-ad40-b5eae85c59b9",
   "metadata": {},
   "outputs": [],
   "source": []
  },
  {
   "cell_type": "code",
   "execution_count": 266,
   "id": "5de80dcd-1359-4860-a78c-ccdfcf866dcb",
   "metadata": {},
   "outputs": [],
   "source": [
    "Y=df[\"sentiment\"]\n",
    "M=[]\n",
    "Y=Y[:20000]\n",
    "for i in Y[:20000]:\n",
    "    if i==\"positive\":\n",
    "        M.append(1)\n",
    "    else:\n",
    "        M.append(0)\n",
    "Y=np.array(M)"
   ]
  },
  {
   "cell_type": "code",
   "execution_count": 268,
   "id": "7f8ac400-549b-48a0-8d9e-807939210a1c",
   "metadata": {},
   "outputs": [],
   "source": [
    "X_train,X_test,Y_train,Y_test=train_test_split(X,Y,test_size=0.20,random_state=42)"
   ]
  },
  {
   "cell_type": "code",
   "execution_count": 133,
   "id": "5e0fa20d-2fdc-46c7-9e1a-4dcf60393064",
   "metadata": {},
   "outputs": [
    {
     "data": {
      "text/plain": [
       "16000"
      ]
     },
     "execution_count": 133,
     "metadata": {},
     "output_type": "execute_result"
    }
   ],
   "source": [
    "len(X_train)"
   ]
  },
  {
   "cell_type": "code",
   "execution_count": null,
   "id": "5a9f154c-5d83-4a70-9b5f-3d141e564e37",
   "metadata": {},
   "outputs": [],
   "source": []
  },
  {
   "cell_type": "code",
   "execution_count": null,
   "id": "d2b25d43-48b6-44df-b4f9-0a14102ce153",
   "metadata": {},
   "outputs": [],
   "source": []
  },
  {
   "cell_type": "code",
   "execution_count": 269,
   "id": "41742182-5c3c-4899-896d-a2093eeecbd3",
   "metadata": {},
   "outputs": [],
   "source": [
    "word_tokenizer=Tokenizer()\n",
    "word_tokenizer.fit_on_texts(X_train)\n",
    "#texts lai chai sequences ma lani kam garyo yesle chai like index assign garni type\n",
    "X_train=word_tokenizer.texts_to_sequences(X_train)\n",
    "X_test=word_tokenizer.texts_to_sequences(X_test)\n"
   ]
  },
  {
   "cell_type": "code",
   "execution_count": 139,
   "id": "a0efb2c5-7a2e-4a2a-82f6-f334410cf29c",
   "metadata": {},
   "outputs": [
    {
     "data": {
      "text/plain": [
       "16000"
      ]
     },
     "execution_count": 139,
     "metadata": {},
     "output_type": "execute_result"
    }
   ],
   "source": [
    "vocab_length=len(word_tokenizer.word_index)+1\n",
    "len(X_train)\n",
    "#There are about "
   ]
  },
  {
   "cell_type": "code",
   "execution_count": 192,
   "id": "259c85e4-c043-4195-99b7-a23f17acfb4d",
   "metadata": {},
   "outputs": [
    {
     "data": {
      "text/plain": [
       "array([[2030,  143, 2923, ...,  253, 4652, 7969],\n",
       "       [   2, 1349, 1349, ...,    0,    0,    0],\n",
       "       [ 490, 1275,  920, ...,    4,  650, 1984],\n",
       "       ...,\n",
       "       [3777,    2, 1739, ...,    0,    0,    0],\n",
       "       [ 232,   78,  674, ...,    0,    0,    0],\n",
       "       [ 383,    1,  147, ...,    0,    0,    0]])"
      ]
     },
     "execution_count": 192,
     "metadata": {},
     "output_type": "execute_result"
    }
   ],
   "source": [
    "max_len=100\n",
    "X_train=pad_sequences(X_train,padding=\"post\",maxlen=max_len)\n",
    "X_test=pad_sequences(X_test,padding=\"post\",maxlen=max_len)\n",
    "X_train"
   ]
  },
  {
   "cell_type": "code",
   "execution_count": 108,
   "id": "865d57ae-d788-4242-85cf-89fa37d023be",
   "metadata": {},
   "outputs": [],
   "source": [
    "from numpy import asarray\n",
    "from numpy import zeros"
   ]
  },
  {
   "cell_type": "code",
   "execution_count": 109,
   "id": "0b933eb3-af4d-484d-a915-63a59436c10b",
   "metadata": {},
   "outputs": [],
   "source": [
    "embedding_dictionary=dict()\n",
    "glove_file=open(r\"C:\\Users\\anjil\\Documents\\glove.twitter.27B\\glove.twitter.27B.100d.txt\",encoding='utf8')"
   ]
  },
  {
   "cell_type": "code",
   "execution_count": 110,
   "id": "77083528-9dad-426b-b099-bfa1699a553e",
   "metadata": {},
   "outputs": [],
   "source": [
    "for line in glove_file:\n",
    "    records=line.split()\n",
    "    word=records[0]\n",
    "    vector_dimensions=asarray(records[1:],dtype=\"float32\")\n",
    "    embedding_dictionary[word]=vector_dimensions\n",
    "glove_file.close()\n",
    "    "
   ]
  },
  {
   "cell_type": "code",
   "execution_count": 111,
   "id": "e8e8821e-7bb6-4ec1-b594-2bb575b30e91",
   "metadata": {},
   "outputs": [],
   "source": [
    "embedding_matrix=zeros((vocab_length,100))\n",
    "for word ,index in word_tokenizer.word_index.items():\n",
    "    embedding_vector=embedding_dictionary.get(word)\n",
    "    #embedding_dictionary consists of the word actual words\n",
    "    if embedding_vector is not None:\n",
    "        embedding_matrix[index]=embedding_vector\n",
    "#yo last wala line le chai word ko tyo index lidai tesma chai value assign handi raxa."
   ]
  },
  {
   "cell_type": "code",
   "execution_count": 145,
   "id": "73c74fa4-2e52-4499-85ed-8db11c54eb3c",
   "metadata": {},
   "outputs": [],
   "source": [
    "snn_model=Sequential()\n",
    "embedding_layer=Embedding(vocab_length,100,weights=[embedding_matrix],input_length=max_len,trainable=False)\n",
    "snn_model.add(embedding_layer)\n",
    "snn_model.add(Flatten())\n",
    "snn_model.add(Dense(1,activation=\"sigmoid\"))"
   ]
  },
  {
   "cell_type": "code",
   "execution_count": 146,
   "id": "62e78831-ddce-4b2e-9ab0-ff22d7fd516c",
   "metadata": {},
   "outputs": [],
   "source": [
    "snn_model.compile(optimizer=\"adam\",loss=\"binary_crossentropy\",metrics=['acc'])\n"
   ]
  },
  {
   "cell_type": "code",
   "execution_count": 150,
   "id": "0fb41beb-7664-4b78-bad8-7acbd6f663f2",
   "metadata": {},
   "outputs": [
    {
     "name": "stdout",
     "output_type": "stream",
     "text": [
      "\u001b[1m125/125\u001b[0m \u001b[32m━━━━━━━━━━━━━━━━━━━━\u001b[0m\u001b[37m\u001b[0m \u001b[1m1s\u001b[0m 6ms/step - acc: 0.9916 - loss: 0.0755 - val_acc: 0.7340 - val_loss: 1.0143\n"
     ]
    }
   ],
   "source": [
    "snn_model_history=snn_model.fit(X_train,Y_train,batch_size=128,epochs=1,verbose=1,validation_data=(X_test,Y_test))"
   ]
  },
  {
   "cell_type": "code",
   "execution_count": 261,
   "id": "c2e68938-79f2-41b0-8ea8-6c485e19dbad",
   "metadata": {},
   "outputs": [
    {
     "data": {
      "text/plain": [
       "{'acc': [0.9894375205039978],\n",
       " 'loss': [0.08054366707801819],\n",
       " 'val_acc': [0.734000027179718],\n",
       " 'val_loss': [1.0143043994903564]}"
      ]
     },
     "execution_count": 261,
     "metadata": {},
     "output_type": "execute_result"
    }
   ],
   "source": [
    "snn_model_history.history\n",
    "#tells about the history of model like loss  and accuracy"
   ]
  },
  {
   "cell_type": "code",
   "execution_count": null,
   "id": "30f031a3-de87-498c-add4-6d23ae9e516a",
   "metadata": {},
   "outputs": [],
   "source": []
  },
  {
   "cell_type": "code",
   "execution_count": null,
   "id": "6da87519-88df-4b7f-ab5e-3e70b328fa7f",
   "metadata": {},
   "outputs": [],
   "source": []
  },
  {
   "cell_type": "code",
   "execution_count": 185,
   "id": "27dbc822-e141-4801-b783-4028ae3cc694",
   "metadata": {},
   "outputs": [
    {
     "data": {
      "text/html": [
       "<div>\n",
       "<style scoped>\n",
       "    .dataframe tbody tr th:only-of-type {\n",
       "        vertical-align: middle;\n",
       "    }\n",
       "\n",
       "    .dataframe tbody tr th {\n",
       "        vertical-align: top;\n",
       "    }\n",
       "\n",
       "    .dataframe thead th {\n",
       "        text-align: right;\n",
       "    }\n",
       "</style>\n",
       "<table border=\"1\" class=\"dataframe\">\n",
       "  <thead>\n",
       "    <tr style=\"text-align: right;\">\n",
       "      <th></th>\n",
       "      <th>review</th>\n",
       "      <th>sentiment</th>\n",
       "    </tr>\n",
       "  </thead>\n",
       "  <tbody>\n",
       "    <tr>\n",
       "      <th>20000</th>\n",
       "      <td>I am a huge fan of Northern Exposure. Men In T...</td>\n",
       "      <td>negative</td>\n",
       "    </tr>\n",
       "  </tbody>\n",
       "</table>\n",
       "</div>"
      ],
      "text/plain": [
       "                                                  review sentiment\n",
       "20000  I am a huge fan of Northern Exposure. Men In T...  negative"
      ]
     },
     "execution_count": 185,
     "metadata": {},
     "output_type": "execute_result"
    }
   ],
   "source": [
    "msg=pd.read_csv(file_path)\n",
    "msg=msg[20000:20001]\n",
    "msg"
   ]
  },
  {
   "cell_type": "code",
   "execution_count": 207,
   "id": "2a09b3e6-8d9c-4e5c-ad20-3e53ee31abaf",
   "metadata": {},
   "outputs": [],
   "source": [
    "unseen_reviews=list(msg[\"review\"])\n",
    "\n",
    "man=[]\n",
    "for sen in unseen_reviews:\n",
    "    man.append(preprocess_text(sen))"
   ]
  },
  {
   "cell_type": "code",
   "execution_count": null,
   "id": "e7a5a005-0a9d-4322-80d9-fb7441035afc",
   "metadata": {},
   "outputs": [],
   "source": []
  },
  {
   "cell_type": "code",
   "execution_count": null,
   "id": "f1e5f8ce-ab53-4df8-a7e3-b90a0aa45a99",
   "metadata": {},
   "outputs": [],
   "source": []
  },
  {
   "cell_type": "code",
   "execution_count": 209,
   "id": "c4076d72-a32c-47d3-95f3-a7c4514730dc",
   "metadata": {},
   "outputs": [],
   "source": [
    "word_tokenizer=Tokenizer()\n",
    "word_tokenizer.fit_on_texts(man)\n",
    "#texts lai chai sequences ma lani kam garyo yesle chai like index assign garni type\n",
    "man=word_tokenizer.texts_to_sequences(man)\n",
    "##yesma ra mathi ko texts_to_sequence ma error aairakhnu ko reason chai suru ma man ta string mai hunxa\n",
    "#normally work garxa tara paxi pheri process garda sequence of integers banxa\n",
    "#ani tya lower method bhannni hunxa which is only for the string type\n",
    "#so error occuring."
   ]
  },
  {
   "cell_type": "code",
   "execution_count": 215,
   "id": "62f35ea8-bf52-4927-9206-37592135c2ff",
   "metadata": {},
   "outputs": [],
   "source": [
    "#i just forget to do padding \n",
    "testing_data=pad_sequences(man,padding=\"post\",maxlen=100)\n"
   ]
  },
  {
   "cell_type": "code",
   "execution_count": 218,
   "id": "d63598ef-a338-4c8b-be99-0cb021dbd7b3",
   "metadata": {},
   "outputs": [
    {
     "name": "stdout",
     "output_type": "stream",
     "text": [
      "\u001b[1m1/1\u001b[0m \u001b[32m━━━━━━━━━━━━━━━━━━━━\u001b[0m\u001b[37m\u001b[0m \u001b[1m1s\u001b[0m 542ms/step\n",
      "[[0.7811812]]\n"
     ]
    }
   ],
   "source": [
    "#in model one of the important decision is likely to be how much is considered as good and how much \n",
    "#is considered bad\n",
    "#i can use the same data for positive and negative giving the star"
   ]
  },
  {
   "cell_type": "code",
   "execution_count": 227,
   "id": "17096bba-f0f1-4649-875f-c395757ce7e8",
   "metadata": {},
   "outputs": [
    {
     "name": "stdout",
     "output_type": "stream",
     "text": [
      "\n",
      "* * * *\n",
      "\n",
      "VERY_GOOD\n",
      "\n"
     ]
    }
   ],
   "source": [
    "yes=snn_model.predict(testing_data,verbose=0)\n",
    "if(yes>0.8):\n",
    "    print(\"* * * * *\\n\")\n",
    "    print(\"MASTERPIECE\")\n",
    "elif(yes>0.7):\n",
    "    \n",
    "    print(\"\\n* * * *\\n\")\n",
    "    print(\"VERY_GOOD\\n\")\n",
    "elif(yes>0.6):\n",
    "    print(\"* * *\\n\")\n",
    "    print(\"NICE\")\n",
    "elif(yes>0.4):\n",
    "    print(\"* *\\n\")\n",
    "    print(\"QUITE_BAD\")\n",
    "else:\n",
    "    print(\"*\\n\")\n",
    "    print(\"NIGHTMARE\")\n",
    "\n"
   ]
  },
  {
   "cell_type": "code",
   "execution_count": 271,
   "id": "e68240ce-8735-407c-a5c1-82c2eff96ccc",
   "metadata": {},
   "outputs": [
    {
     "name": "stdout",
     "output_type": "stream",
     "text": [
      "Initialized empty Git repository in C:/Users/anjil/.git/\n"
     ]
    }
   ],
   "source": [
    "!git init"
   ]
  },
  {
   "cell_type": "code",
   "execution_count": 273,
   "id": "fcb0de1f-81bb-4730-bc8c-e0b94e60ea03",
   "metadata": {},
   "outputs": [
    {
     "name": "stderr",
     "output_type": "stream",
     "text": [
      "warning: in the working copy of 'sentiment_analysis_project.ipynb', LF will be replaced by CRLF the next time Git touches it\n"
     ]
    }
   ],
   "source": [
    "!git add sentiment_analysis_project.ipynb\n"
   ]
  },
  {
   "cell_type": "code",
   "execution_count": null,
   "id": "67fa524b-7216-4f20-921c-4b86d3b0f8a5",
   "metadata": {},
   "outputs": [],
   "source": []
  }
 ],
 "metadata": {
  "kernelspec": {
   "display_name": "Python 3 (ipykernel)",
   "language": "python",
   "name": "python3"
  },
  "language_info": {
   "codemirror_mode": {
    "name": "ipython",
    "version": 3
   },
   "file_extension": ".py",
   "mimetype": "text/x-python",
   "name": "python",
   "nbconvert_exporter": "python",
   "pygments_lexer": "ipython3",
   "version": "3.9.5"
  }
 },
 "nbformat": 4,
 "nbformat_minor": 5
}
